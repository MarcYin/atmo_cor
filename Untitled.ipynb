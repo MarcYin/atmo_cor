{
 "cells": [
  {
   "cell_type": "code",
   "execution_count": 297,
   "metadata": {
    "collapsed": false
   },
   "outputs": [],
   "source": [
    "import xml.etree.ElementTree as ET\n",
    "import numpy as np\n",
    "filename = '/home/ucfafyi/DATA/S2_MODIS/s_data/18/H/XE/2016/5/17/0/metadata.xml'\n",
    "def read_s2_angles(filename):\n",
    "    bands = 'B01', 'B02', 'B03','B04','B05' ,'B06', 'B07', 'B08', 'B8A', 'B09', 'B10', 'B11', 'B12' \n",
    "    tree = ET.parse(filename)\n",
    "    root = tree.getroot()\n",
    "    #Sun_Angles_Grid\n",
    "    saa =[]\n",
    "    sza =[]\n",
    "    msz = []\n",
    "    msa = []\n",
    "    #Viewing_Incidence_Angles_Grids\n",
    "    vza = {}\n",
    "    vaa = {}\n",
    "    mvz = {}\n",
    "    mva = {}\n",
    "    for child in root:\n",
    "        for j in child:\n",
    "            for k in j.findall('Sun_Angles_Grid'):\n",
    "                for l in k.findall('Zenith'):\n",
    "                    for m in l.findall('Values_List'):\n",
    "                        for x in m.findall('VALUES'):\n",
    "                            sza.append(x.text.split())\n",
    "\n",
    "                for n in k.findall('Azimuth'):\n",
    "                    for o in n.findall('Values_List'):\n",
    "                        for p in o.findall('VALUES'):\n",
    "                            saa.append(p.text.split())\n",
    "\n",
    "            for ms in j.findall('Mean_Sun_Angle'):\n",
    "                msz = float(ms.find('ZENITH_ANGLE').text)\n",
    "                msa = float(ms.find('AZIMUTH_ANGLE').text)\n",
    "\n",
    "            for k in j.findall('Viewing_Incidence_Angles_Grids'):\n",
    "                for l in k.findall('Zenith'):\n",
    "                    for m in l.findall('Values_List'):\n",
    "                        vza_sub = []\n",
    "                        for x in m.findall('VALUES'):\n",
    "                            vza_sub.append(x.text.split())\n",
    "                        bi, di, angles = k.attrib['bandId'], k.attrib['detectorId'], np.array(vza_sub).astype(float)\n",
    "                        vza[(int(bi),int(di))] = angles\n",
    "\n",
    "                for n in k.findall('Azimuth'):\n",
    "                    for o in n.findall('Values_List'):\n",
    "                        vaa_sub = []\n",
    "                        for p in o.findall('VALUES'):\n",
    "                            vaa_sub.append(p.text.split())\n",
    "                        bi, di, angles =  k.attrib['bandId'], k.attrib['detectorId'], np.array(vaa_sub).astype(float)\n",
    "                        vaa[(int(bi),int(di))] = angles\n",
    "\n",
    "            for mvia in j.findall('Mean_Viewing_Incidence_Angle_List'):\n",
    "                for i in mvia.findall('Mean_Viewing_Incidence_Angle'):\n",
    "                    mvz[int(i.attrib['bandId'])] = float(i.find('ZENITH_ANGLE').text)\n",
    "                    mva[int(i.attrib['bandId'])] = float(i.find('AZIMUTH_ANGLE').text)\n",
    "    saa, sza = np.array(saa).astype(float), np.array(sza).astype(float)\n",
    "    dete_id = np.unique([i[1] for i in vaa.keys()])\n",
    "    band_id = range(13)\n",
    "    bands_vaa = []\n",
    "    bands_vza = []\n",
    "    for i in band_id:\n",
    "        band_vaa = np.zeros((23,23))\n",
    "        band_vza = np.zeros((23,23))\n",
    "        band_vaa[:] = np.nan\n",
    "        band_vza[:] = np.nan\n",
    "        for j in dete_id:\n",
    "            good = ~np.isnan(vaa[(i,j)])\n",
    "            band_vaa[good] = vaa[(i,j)][good]\n",
    "            good = ~np.isnan(vza[(i,j)])\n",
    "            band_vza[good] = vza[(i,j)][good]\n",
    "        bands_vaa.append(band_vaa)\n",
    "        bands_vza.append(band_vza)\n",
    "    bands_vaa, bands_vza = np.array(bands_vaa), np.array(bands_vza)\n",
    "\n",
    "    return {'sza':sza, 'saa':saa, 'msz':msz, 'msa':msa, 'vza':bands_vza, 'vaa': bands_vaa, 'mvz':mvz, 'mva':mva, 'bands':bands}"
   ]
  },
  {
   "cell_type": "code",
   "execution_count": 310,
   "metadata": {
    "collapsed": false
   },
   "outputs": [
    {
     "data": {
      "text/plain": [
       "287.706724292177"
      ]
     },
     "execution_count": 310,
     "metadata": {},
     "output_type": "execute_result"
    }
   ],
   "source": [
    "angles['mva']"
   ]
  },
  {
   "cell_type": "code",
   "execution_count": null,
   "metadata": {
    "collapsed": true
   },
   "outputs": [],
   "source": []
  }
 ],
 "metadata": {
  "kernelspec": {
   "display_name": "Python 2",
   "language": "python",
   "name": "python2"
  },
  "language_info": {
   "codemirror_mode": {
    "name": "ipython",
    "version": 2
   },
   "file_extension": ".py",
   "mimetype": "text/x-python",
   "name": "python",
   "nbconvert_exporter": "python",
   "pygments_lexer": "ipython2",
   "version": "2.7.13"
  }
 },
 "nbformat": 4,
 "nbformat_minor": 2
}
